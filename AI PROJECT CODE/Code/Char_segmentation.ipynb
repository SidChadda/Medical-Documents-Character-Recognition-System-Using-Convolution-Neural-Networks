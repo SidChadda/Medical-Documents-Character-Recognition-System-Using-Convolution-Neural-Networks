{
 "cells": [
  {
   "cell_type": "code",
   "execution_count": 1,
   "metadata": {},
   "outputs": [],
   "source": [
    "import matplotlib.pyplot as plt\n",
    "import cv2\n",
    "import numpy as np \n",
    "import os\n",
    "from PIL import Image"
   ]
  },
  {
   "cell_type": "code",
   "execution_count": 2,
   "metadata": {},
   "outputs": [],
   "source": [
    "def crop_img_to_lines(file, loc):\n",
    "    x1 = 0\n",
    "    y = 0\n",
    "    lines = []\n",
    "    for i, j in enumerate(loc):\n",
    "        x2 = j\n",
    "#         print(\"x1=\", x1, \", x2=\", x2, \", Diff= \", x2-x1)\n",
    "        line = file[:, x1:x2]\n",
    "        lines.append(line)\n",
    "        x1 = j\n",
    "    return lines"
   ]
  },
  {
   "cell_type": "code",
   "execution_count": null,
   "metadata": {},
   "outputs": [],
   "source": []
  },
  {
   "cell_type": "code",
   "execution_count": 3,
   "metadata": {},
   "outputs": [],
   "source": [
    "def char_seg(word):\n",
    "    letters = []\n",
    "    try:\n",
    "        (_,img_)=cv2.threshold(word,200,255,cv2.THRESH_BINARY)\n",
    "        (ht,wd) = img_.shape\n",
    "        l = []\n",
    "        for x in range(wd):\n",
    "            if list(img_[:,x]).count(0)<1:\n",
    "                l.append(x)\n",
    "\n",
    "        arr_mins = [] \n",
    "        for ind in range(len(l)-1):\n",
    "            if l[ind+1]-l[ind]>1:\n",
    "                arr_mins.append(l[ind])\n",
    "\n",
    "        arr_mins.append(l[-1])\n",
    "\n",
    "        arr_mins = arr_mins[1:]\n",
    "\n",
    "        letters = crop_img_to_lines(img,arr_mins)\n",
    "    except:\n",
    "        print('')\n",
    "\n",
    "    return letters\n"
   ]
  },
  {
   "cell_type": "code",
   "execution_count": null,
   "metadata": {},
   "outputs": [],
   "source": []
  },
  {
   "cell_type": "code",
   "execution_count": 4,
   "metadata": {},
   "outputs": [
    {
     "name": "stdout",
     "output_type": "stream",
     "text": [
      "\n",
      "\n",
      "\n",
      "\n",
      "\n",
      "\n"
     ]
    }
   ],
   "source": [
    "for line in os.listdir('out/'):\n",
    "    for word in os.listdir('out/'+line): \n",
    "        img = cv2.imread('out/'+line+'/'+word) \n",
    "        wrd = cv2.imread('out/'+line+'/'+word,cv2.IMREAD_GRAYSCALE)\n",
    "\n",
    "        letters = char_seg(wrd)\n",
    "        \n",
    "        c = 0\n",
    "        for i in letters:\n",
    "            c = c + 1                \n",
    "            if not os.path.exists('out/%s/c_%s/'%(line,word)):\n",
    "                print('folder doesnt exists')\n",
    "                os.mkdir('out/%s/c_%s'%(line,word))\n",
    "            plt.imsave('out/'+line+'/c_'+word+'/letter{0}.jpg'.format(c),i,cmap='gray')"
   ]
  }
 ],
 "metadata": {
  "kernelspec": {
   "display_name": "Python 3",
   "language": "python",
   "name": "python3"
  },
  "language_info": {
   "codemirror_mode": {
    "name": "ipython",
    "version": 3
   },
   "file_extension": ".py",
   "mimetype": "text/x-python",
   "name": "python",
   "nbconvert_exporter": "python",
   "pygments_lexer": "ipython3",
   "version": "3.9.4"
  },
  "varInspector": {
   "cols": {
    "lenName": 16,
    "lenType": 16,
    "lenVar": 40
   },
   "kernels_config": {
    "python": {
     "delete_cmd_postfix": "",
     "delete_cmd_prefix": "del ",
     "library": "var_list.py",
     "varRefreshCmd": "print(var_dic_list())"
    },
    "r": {
     "delete_cmd_postfix": ") ",
     "delete_cmd_prefix": "rm(",
     "library": "var_list.r",
     "varRefreshCmd": "cat(var_dic_list()) "
    }
   },
   "types_to_exclude": [
    "module",
    "function",
    "builtin_function_or_method",
    "instance",
    "_Feature"
   ],
   "window_display": false
  }
 },
 "nbformat": 4,
 "nbformat_minor": 4
}
