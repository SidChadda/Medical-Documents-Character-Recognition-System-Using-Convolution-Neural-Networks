{
 "cells": [
  {
   "cell_type": "code",
   "execution_count": 1,
   "metadata": {},
   "outputs": [],
   "source": [
    "import os\n",
    "import cv2\n",
    "import math\n",
    "import numpy as np"
   ]
  },
  {
   "cell_type": "code",
   "execution_count": 2,
   "metadata": {},
   "outputs": [],
   "source": [
    "def wordSegmentation(img, kernelSize=25, sigma=11, theta=7, minArea=0):\n",
    "\n",
    "    kernel = createKernel(kernelSize, sigma, theta)\n",
    "    imgFiltered = cv2.filter2D(img, -1, kernel, borderType=cv2.BORDER_REPLICATE).astype(np.uint8)\n",
    "    (_, imgThres) = cv2.threshold(imgFiltered, 0, 255, cv2.THRESH_BINARY+cv2.THRESH_OTSU)\n",
    "    imgThres = 255 - imgThres\n",
    "\n",
    "    (components, _) = cv2.findContours(imgThres, cv2.RETR_LIST, cv2.CHAIN_APPROX_SIMPLE)\n",
    "\n",
    "    res = []\n",
    "    for c in components:\n",
    "\n",
    "        if cv2.contourArea(c) < minArea:\n",
    "            continue\n",
    "\n",
    "        currBox = cv2.boundingRect(c) # returns (x, y, w, h)\n",
    "        (x, y, w, h) = currBox\n",
    "        currImg = img[y:y+h, x:x+w]\n",
    "        res.append((currBox, currImg))\n",
    "\n",
    "    return sorted(res, key=lambda entry:entry[0][0])"
   ]
  },
  {
   "cell_type": "code",
   "execution_count": 3,
   "metadata": {},
   "outputs": [],
   "source": [
    "def prepareImg(img, height):\n",
    "\n",
    "    assert img.ndim in (2, 3)\n",
    "    if img.ndim == 3:\n",
    "        img = cv2.cvtColor(img, cv2.COLOR_BGR2GRAY)\n",
    "    h = img.shape[0]\n",
    "    factor = height / h\n",
    "    return cv2.resize(img, dsize=None, fx=factor, fy=factor)"
   ]
  },
  {
   "cell_type": "code",
   "execution_count": 4,
   "metadata": {},
   "outputs": [],
   "source": [
    "def createKernel(kernelSize, sigma, theta):\n",
    "\n",
    "    assert kernelSize % 2 \n",
    "    halfSize = kernelSize // 2\n",
    "\n",
    "    kernel = np.zeros([kernelSize, kernelSize])\n",
    "    sigmaX = sigma\n",
    "    sigmaY = sigma * theta\n",
    "\n",
    "    for i in range(kernelSize):\n",
    "        for j in range(kernelSize):\n",
    "            x = i - halfSize\n",
    "            y = j - halfSize\n",
    "\n",
    "            expTerm = np.exp(-x**2 / (2 * sigmaX) - y**2 / (2 * sigmaY))\n",
    "            xTerm = (x**2 - sigmaX**2) / (2 * math.pi * sigmaX**5 * sigmaY)\n",
    "            yTerm = (y**2 - sigmaY**2) / (2 * math.pi * sigmaY**5 * sigmaX)\n",
    "\n",
    "            kernel[i, j] = (xTerm + yTerm) * expTerm\n",
    "\n",
    "    kernel = kernel / np.sum(kernel)\n",
    "    return kernel"
   ]
  },
  {
   "cell_type": "code",
   "execution_count": 5,
   "metadata": {},
   "outputs": [
    {
     "name": "stdout",
     "output_type": "stream",
     "text": [
      "Segmented into 1 words\n",
      "Segmented into 1 words\n",
      "Segmented into 1 words\n"
     ]
    }
   ],
   "source": [
    "def main():\n",
    "\n",
    "    imgFiles = os.listdir('data/')\n",
    "    for (i,f) in enumerate(imgFiles):\n",
    "    \n",
    "        img = prepareImg(cv2.imread('data/%s'%f), 50)\n",
    "\n",
    "        res = wordSegmentation(img, kernelSize=25, sigma=11, theta=7, minArea=100)\n",
    "    \n",
    "        if not os.path.exists('out/%s'%f):\n",
    "            os.mkdir('out/%s'%f)\n",
    "\n",
    "        print('Segmented into %d words'%len(res))\n",
    "        for (j, w) in enumerate(res):\n",
    "            (wordBox, wordImg) = w\n",
    "            (x, y, w, h) = wordBox\n",
    "            cv2.imwrite('out/%s/%d.png'%(f, j), wordImg)\n",
    "            cv2.rectangle(img,(x,y),(x+w,y+h),0,1)\n",
    "\n",
    "        cv2.imwrite('out/%s/summary.png'%f, img)\n",
    "\n",
    "if __name__ == '__main__':\n",
    "    main()\n"
   ]
  },
  {
   "cell_type": "code",
   "execution_count": null,
   "metadata": {},
   "outputs": [],
   "source": []
  },
  {
   "cell_type": "code",
   "execution_count": null,
   "metadata": {},
   "outputs": [],
   "source": []
  },
  {
   "cell_type": "code",
   "execution_count": null,
   "metadata": {},
   "outputs": [],
   "source": []
  },
  {
   "cell_type": "code",
   "execution_count": null,
   "metadata": {},
   "outputs": [],
   "source": []
  }
 ],
 "metadata": {
  "kernelspec": {
   "display_name": "Python 3",
   "language": "python",
   "name": "python3"
  },
  "language_info": {
   "codemirror_mode": {
    "name": "ipython",
    "version": 3
   },
   "file_extension": ".py",
   "mimetype": "text/x-python",
   "name": "python",
   "nbconvert_exporter": "python",
   "pygments_lexer": "ipython3",
   "version": "3.9.4"
  },
  "varInspector": {
   "cols": {
    "lenName": 16,
    "lenType": 16,
    "lenVar": 40
   },
   "kernels_config": {
    "python": {
     "delete_cmd_postfix": "",
     "delete_cmd_prefix": "del ",
     "library": "var_list.py",
     "varRefreshCmd": "print(var_dic_list())"
    },
    "r": {
     "delete_cmd_postfix": ") ",
     "delete_cmd_prefix": "rm(",
     "library": "var_list.r",
     "varRefreshCmd": "cat(var_dic_list()) "
    }
   },
   "types_to_exclude": [
    "module",
    "function",
    "builtin_function_or_method",
    "instance",
    "_Feature"
   ],
   "window_display": false
  }
 },
 "nbformat": 4,
 "nbformat_minor": 4
}
